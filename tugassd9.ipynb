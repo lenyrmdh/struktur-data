{
 "cells": [
  {
   "cell_type": "markdown",
   "metadata": {},
   "source": [
    "# 1. Header dan Library"
   ]
  },
  {
   "cell_type": "markdown",
   "metadata": {},
   "source": [
    "- include <iostream>: Mengimpor library untuk input dan output standar.\n",
    "- include <stack>   : Mengimpor library untuk struktur data stack.\n",
    "- include <string>  : Mengimpor library untuk kelas string."
   ]
  },
  {
   "cell_type": "markdown",
   "metadata": {},
   "source": [
    "# 2. Kelas PengolahKata"
   ]
  },
  {
   "cell_type": "markdown",
   "metadata": {},
   "source": [
    "- Atribut Kelas:\n",
    "\n",
    "   - std::string teksSekarang: Menyimpan teks yang sedang diedit saat ini.\n",
    "   - std::stack<std::string> undoStack: Menyimpan riwayat teks untuk mendukung operasi undo.\n",
    "   - std::stack<std::string> redoStack: Menyimpan riwayat teks untuk mendukung operasi redo.\n",
    "\n",
    "- Metode ketik:\n",
    "\n",
    "   - Menyimpan teksSekarang ke dalam undoStack sebelum menambahkan teks baru.\n",
    "   - Mengosongkan redoStack karena operasi baru membatalkan semua operasi redo sebelumnya.\n",
    "   - Menampilkan teks saat ini setelah penambahan teks baru.\n",
    "\n",
    "- Metode undo:\n",
    "\n",
    "   - Mengembalikan teks ke keadaan sebelumnya dari undoStack jika tidak kosong, dan menyimpan keadaan saat ini ke redoStack.\n",
    "   - Menampilkan teks saat ini setelah operasi undo.\n",
    "\n",
    "- Metode redo:\n",
    "\n",
    "   - Mengembalikan teks ke keadaan setelah undo dari redoStack jika tidak kosong, dan menyimpan keadaan saat ini ke undoStack.\n",
    "   - Menampilkan teks saat ini setelah operasi redo.\n",
    "\n",
    "- Metode isEmptyUndo dan isEmptyRedo:\n",
    "\n",
    "   - Memeriksa apakah undoStack atau redoStack kosong."
   ]
  },
  {
   "cell_type": "markdown",
   "metadata": {},
   "source": [
    "# 3. Fungsi tampilkanMenu"
   ]
  },
  {
   "cell_type": "markdown",
   "metadata": {},
   "source": [
    "- Fungsi ini menampilkan menu pilihan untuk pengguna, dengan opsi yang terformat dan ramah pengguna."
   ]
  },
  {
   "cell_type": "markdown",
   "metadata": {},
   "source": [
    "# 4. Fungsi main"
   ]
  },
  {
   "cell_type": "markdown",
   "metadata": {},
   "source": [
    "- Loop utama:\n",
    "\n",
    "    - Menampilkan menu dan meminta pengguna memasukkan perintah.\n",
    "    - Menggunakan kondisi if-else untuk menangani berbagai perintah:\n",
    "        - \"1\" untuk menambahkan teks.\n",
    "        - \"2\" untuk melakukan undo.\n",
    "        - \"3\" untuk melakukan redo.\n",
    "        - \"4\" untuk memeriksa apakah undoStack kosong.\n",
    "        - \"5\" untuk memeriksa apakah redoStack kosong.\n",
    "        - \"6\" untuk keluar dari program.\n",
    "        - Menampilkan pesan kesalahan jika perintah tidak dikenal.\n",
    "\n",
    "\n",
    "- Kesimpulan\n",
    "\n",
    "    Kode ini adalah contoh implementasi sederhana dari aplikasi pengolah kata yang mendukung operasi undo dan redo menggunakan struktur data stack. Program ini menggunakan loop untuk terus menerima input dari pengguna hingga mereka memilih untuk keluar.\n",
    "\n",
    "\n",
    "\n",
    "\n",
    "\n",
    "\n"
   ]
  }
 ],
 "metadata": {
  "kernelspec": {
   "display_name": "Python 3",
   "language": "python",
   "name": "python3"
  },
  "language_info": {
   "codemirror_mode": {
    "name": "ipython",
    "version": 3
   },
   "file_extension": ".py",
   "mimetype": "text/x-python",
   "name": "python",
   "nbconvert_exporter": "python",
   "pygments_lexer": "ipython3",
   "version": "3.10.12"
  }
 },
 "nbformat": 4,
 "nbformat_minor": 2
}
