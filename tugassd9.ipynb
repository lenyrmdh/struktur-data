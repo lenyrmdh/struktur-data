{
 "cells": [
  {
   "cell_type": "markdown",
   "metadata": {},
   "source": [
    "# 1. Header dan Library"
   ]
  },
  {
   "cell_type": "code",
   "execution_count": 1,
   "metadata": {},
   "outputs": [],
   "source": [
    "#include <iostream>\n",
    "#include <stack>\n",
    "#include <string>"
   ]
  },
  {
   "cell_type": "markdown",
   "metadata": {},
   "source": [
    "- #include <iostream>: Mengimpor library untuk input dan output standar.\n",
    "- #include <stack>   : Mengimpor library untuk struktur data stack.\n",
    "- #include <string>  : Mengimpor library untuk kelas string."
   ]
  },
  {
   "cell_type": "markdown",
   "metadata": {},
   "source": [
    "# 2. Kelas PengolahKata"
   ]
  },
  {
   "cell_type": "code",
   "execution_count": 2,
   "metadata": {},
   "outputs": [
    {
     "ename": "SyntaxError",
     "evalue": "invalid syntax (1273443471.py, line 1)",
     "output_type": "error",
     "traceback": [
      "\u001b[0;36m  Cell \u001b[0;32mIn[2], line 1\u001b[0;36m\u001b[0m\n\u001b[0;31m    class PengolahKata {\u001b[0m\n\u001b[0m                       ^\u001b[0m\n\u001b[0;31mSyntaxError\u001b[0m\u001b[0;31m:\u001b[0m invalid syntax\n"
     ]
    }
   ],
   "source": [
    "class PengolahKata {\n",
    "public:\n",
    "    void ketik(const std::string& teks) {\n",
    "        undoStack.push(teksSekarang);\n",
    "        teksSekarang += teks;\n",
    "        while (!redoStack.empty()) {\n",
    "            redoStack.pop();\n",
    "        }\n",
    "        std::cout << \"Teks saat ini: \" << teksSekarang << std::endl;\n",
    "    }\n",
    "\n",
    "    void undo() {\n",
    "        if (undoStack.empty()) {\n",
    "            std::cout << \"Undo stack kosong. Tidak ada yang bisa di-undo.\" << std::endl;\n",
    "            return;\n",
    "        }\n",
    "        redoStack.push(teksSekarang);\n",
    "        teksSekarang = undoStack.top();\n",
    "        undoStack.pop();\n",
    "        std::cout << \"Undo dilakukan. Teks saat ini: \" << teksSekarang << std::endl;\n",
    "    }\n",
    "\n",
    "    void redo() {\n",
    "        if (redoStack.empty()) {\n",
    "            std::cout << \"Redo stack kosong. Tidak ada yang bisa di-redo.\" << std::endl;\n",
    "            return;\n",
    "        }\n",
    "        undoStack.push(teksSekarang);\n",
    "        teksSekarang = redoStack.top();\n",
    "        redoStack.pop();\n",
    "        std::cout << \"Redo dilakukan. Teks saat ini: \" << teksSekarang << std::endl;\n",
    "    }\n",
    "\n",
    "    bool isEmptyUndo() const {\n",
    "        return undoStack.empty();\n",
    "    }\n",
    "\n",
    "    bool isEmptyRedo() const {\n",
    "        return redoStack.empty();\n",
    "    }\n",
    "\n",
    "private:\n",
    "    std::string teksSekarang;\n",
    "    std::stack<std::string> undoStack;\n",
    "    std::stack<std::string> redoStack;\n",
    "};"
   ]
  },
  {
   "cell_type": "markdown",
   "metadata": {},
   "source": [
    "- Atribut Kelas:\n",
    "\n",
    "   - std::string teksSekarang: Menyimpan teks yang sedang diedit saat ini.\n",
    "   - std::stack<std::string> undoStack: Menyimpan riwayat teks untuk mendukung operasi undo.\n",
    "   - std::stack<std::string> redoStack: Menyimpan riwayat teks untuk mendukung operasi redo.\n",
    "\n",
    "- Metode ketik:\n",
    "\n",
    "   - Menyimpan teksSekarang ke dalam undoStack sebelum menambahkan teks baru.\n",
    "   - Mengosongkan redoStack karena operasi baru membatalkan semua operasi redo sebelumnya.\n",
    "   - Menampilkan teks saat ini setelah penambahan teks baru.\n",
    "\n",
    "- Metode undo:\n",
    "\n",
    "   - Mengembalikan teks ke keadaan sebelumnya dari undoStack jika tidak kosong, dan menyimpan keadaan saat ini ke redoStack.\n",
    "   - Menampilkan teks saat ini setelah operasi undo.\n",
    "\n",
    "- Metode redo:\n",
    "\n",
    "   - Mengembalikan teks ke keadaan setelah undo dari redoStack jika tidak kosong, dan menyimpan keadaan saat ini ke undoStack.\n",
    "   - Menampilkan teks saat ini setelah operasi redo.\n",
    "\n",
    "- Metode isEmptyUndo dan isEmptyRedo:\n",
    "\n",
    "   - Memeriksa apakah undoStack atau redoStack kosong."
   ]
  },
  {
   "cell_type": "markdown",
   "metadata": {},
   "source": [
    "# 3. Fungsi tampilkanMenu"
   ]
  },
  {
   "cell_type": "code",
   "execution_count": 4,
   "metadata": {},
   "outputs": [
    {
     "ename": "SyntaxError",
     "evalue": "invalid syntax (2073008799.py, line 1)",
     "output_type": "error",
     "traceback": [
      "\u001b[0;36m  Cell \u001b[0;32mIn[4], line 1\u001b[0;36m\u001b[0m\n\u001b[0;31m    void tampilkanMenu() {\u001b[0m\n\u001b[0m         ^\u001b[0m\n\u001b[0;31mSyntaxError\u001b[0m\u001b[0;31m:\u001b[0m invalid syntax\n"
     ]
    }
   ],
   "source": [
    "void tampilkanMenu() {\n",
    "    std::cout << \"\\n=== Menu Pengolah Kata ===\\n\";\n",
    "    std::cout << \"1. Ketik\\n\";\n",
    "    std::cout << \"2. Undo\\n\";\n",
    "    std::cout << \"3. Redo\\n\";\n",
    "    std::cout << \"4. IsEmptyUndo\\n\";\n",
    "    std::cout << \"5. IsEmptyRedo\\n\";\n",
    "    std::cout << \"6. Keluar\\n\";\n",
    "    std::cout << \"Pilih perintah (1-6): \";\n",
    "}"
   ]
  },
  {
   "cell_type": "markdown",
   "metadata": {},
   "source": [
    "- Fungsi ini menampilkan menu pilihan untuk pengguna, dengan opsi yang terformat dan ramah pengguna."
   ]
  },
  {
   "cell_type": "markdown",
   "metadata": {},
   "source": [
    "# 4. Fungsi main"
   ]
  },
  {
   "cell_type": "code",
   "execution_count": null,
   "metadata": {},
   "outputs": [],
   "source": [
    "int main() {\n",
    "    PengolahKata pk;\n",
    "    std::string perintah, teks;\n",
    "\n",
    "    while (true) {\n",
    "        tampilkanMenu();\n",
    "        std::cin >> perintah;\n",
    "\n",
    "        if (perintah == \"1\") {\n",
    "            std::cout << \"Masukkan teks: \";\n",
    "            std::cin.ignore();  // Mengabaikan karakter newline yang tersisa di buffer input\n",
    "            std::getline(std::cin, teks);\n",
    "            pk.ketik(teks);\n",
    "        } else if (perintah == \"2\") {\n",
    "            pk.undo();\n",
    "        } else if (perintah == \"3\") {\n",
    "            pk.redo();\n",
    "        } else if (perintah == \"4\") {\n",
    "            if (pk.isEmptyUndo()) {\n",
    "                std::cout << \"Undo stack kosong.\" << std::endl;\n",
    "            } else {\n",
    "                std::cout << \"Undo stack tidak kosong.\" << std::endl;\n",
    "            }\n",
    "        } else if (perintah == \"5\") {\n",
    "            if (pk.isEmptyRedo()) {\n",
    "                std::cout << \"Redo stack kosong.\" << std::endl;\n",
    "            } else {\n",
    "                std::cout << \"Redo stack tidak kosong.\" << std::endl;\n",
    "            }\n",
    "        } else if (perintah == \"6\") {\n",
    "            std::cout << \"Keluar dari program.\\n\";\n",
    "            break;\n",
    "        } else {\n",
    "            std::cout << \"Perintah tidak dikenal. Silakan coba lagi.\" << std::endl;\n",
    "        }\n",
    "    }\n",
    "\n",
    "    return 0;\n",
    "}\n"
   ]
  },
  {
   "cell_type": "markdown",
   "metadata": {},
   "source": [
    "- Loop utama:\n",
    "\n",
    "    - Menampilkan menu dan meminta pengguna memasukkan perintah.\n",
    "    - Menggunakan kondisi if-else untuk menangani berbagai perintah:\n",
    "        - \"1\" untuk menambahkan teks.\n",
    "        - \"2\" untuk melakukan undo.\n",
    "        - \"3\" untuk melakukan redo.\n",
    "        - \"4\" untuk memeriksa apakah undoStack kosong.\n",
    "        - \"5\" untuk memeriksa apakah redoStack kosong.\n",
    "        - \"6\" untuk keluar dari program.\n",
    "        - Menampilkan pesan kesalahan jika perintah tidak dikenal.\n",
    "\n",
    "\n",
    "- Kesimpulan\n",
    "\n",
    "    Kode di atas adalah contoh implementasi sederhana dari aplikasi pengolah kata yang mendukung operasi undo dan redo menggunakan struktur data stack. Program ini menggunakan loop untuk terus menerima input dari pengguna hingga mereka memilih untuk keluar.\n",
    "\n",
    "\n",
    "\n",
    "\n",
    "\n",
    "\n"
   ]
  }
 ],
 "metadata": {
  "kernelspec": {
   "display_name": "Python 3",
   "language": "python",
   "name": "python3"
  },
  "language_info": {
   "codemirror_mode": {
    "name": "ipython",
    "version": 3
   },
   "file_extension": ".py",
   "mimetype": "text/x-python",
   "name": "python",
   "nbconvert_exporter": "python",
   "pygments_lexer": "ipython3",
   "version": "3.10.12"
  }
 },
 "nbformat": 4,
 "nbformat_minor": 2
}
